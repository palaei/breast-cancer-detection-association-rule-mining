{
 "cells": [
  {
   "cell_type": "code",
   "execution_count": 474,
   "metadata": {},
   "outputs": [],
   "source": [
    "import pandas as pd\n",
    "import numpy as np\n",
    "\n",
    "import plotly.express as px\n",
    "import plotly.graph_objects as go"
   ]
  },
  {
   "cell_type": "code",
   "execution_count": 475,
   "metadata": {},
   "outputs": [],
   "source": [
    "dataset_path = \"../data/raw/dataset.xlsx\""
   ]
  },
  {
   "cell_type": "code",
   "execution_count": 476,
   "metadata": {},
   "outputs": [
    {
     "data": {
      "text/html": [
       "<div>\n",
       "<style scoped>\n",
       "    .dataframe tbody tr th:only-of-type {\n",
       "        vertical-align: middle;\n",
       "    }\n",
       "\n",
       "    .dataframe tbody tr th {\n",
       "        vertical-align: top;\n",
       "    }\n",
       "\n",
       "    .dataframe thead th {\n",
       "        text-align: right;\n",
       "    }\n",
       "</style>\n",
       "<table border=\"1\" class=\"dataframe\">\n",
       "  <thead>\n",
       "    <tr style=\"text-align: right;\">\n",
       "      <th></th>\n",
       "      <th>Variable</th>\n",
       "      <th>CODE</th>\n",
       "      <th>age.diag</th>\n",
       "      <th>age.menarc</th>\n",
       "      <th>age.menop</th>\n",
       "      <th>education</th>\n",
       "      <th>marital</th>\n",
       "      <th>gravity</th>\n",
       "      <th>lactaton</th>\n",
       "      <th>fpregnancy</th>\n",
       "      <th>...</th>\n",
       "      <th>hrt</th>\n",
       "      <th>smoking</th>\n",
       "      <th>personal.Hx</th>\n",
       "      <th>Family</th>\n",
       "      <th>agef</th>\n",
       "      <th>weight</th>\n",
       "      <th>height</th>\n",
       "      <th>lifeevent</th>\n",
       "      <th>stage</th>\n",
       "      <th>G</th>\n",
       "    </tr>\n",
       "  </thead>\n",
       "  <tbody>\n",
       "    <tr>\n",
       "      <th>0</th>\n",
       "      <td>Label</td>\n",
       "      <td>NaN</td>\n",
       "      <td>age at diagnose</td>\n",
       "      <td>age of menarce</td>\n",
       "      <td>age of menopause</td>\n",
       "      <td>education</td>\n",
       "      <td>marital</td>\n",
       "      <td>gravity</td>\n",
       "      <td>lactation duration</td>\n",
       "      <td>age at first pregnancy</td>\n",
       "      <td>...</td>\n",
       "      <td>duration of HRT use</td>\n",
       "      <td>NaN</td>\n",
       "      <td>personal history of breast CA</td>\n",
       "      <td>NaN</td>\n",
       "      <td>age of involved with breast cancer</td>\n",
       "      <td>weight</td>\n",
       "      <td>height</td>\n",
       "      <td>NaN</td>\n",
       "      <td>NaN</td>\n",
       "      <td>Grade</td>\n",
       "    </tr>\n",
       "    <tr>\n",
       "      <th>1</th>\n",
       "      <td>NaN</td>\n",
       "      <td>NaN</td>\n",
       "      <td>41</td>\n",
       "      <td>12</td>\n",
       "      <td>NaN</td>\n",
       "      <td>3</td>\n",
       "      <td>2</td>\n",
       "      <td>1</td>\n",
       "      <td>27</td>\n",
       "      <td>20</td>\n",
       "      <td>...</td>\n",
       "      <td>0</td>\n",
       "      <td>0.0</td>\n",
       "      <td>1</td>\n",
       "      <td>4.0</td>\n",
       "      <td>38</td>\n",
       "      <td>69</td>\n",
       "      <td>158</td>\n",
       "      <td>0.0</td>\n",
       "      <td>3a</td>\n",
       "      <td>2</td>\n",
       "    </tr>\n",
       "    <tr>\n",
       "      <th>2</th>\n",
       "      <td>NaN</td>\n",
       "      <td>NaN</td>\n",
       "      <td>57</td>\n",
       "      <td>15</td>\n",
       "      <td>45</td>\n",
       "      <td>2</td>\n",
       "      <td>4</td>\n",
       "      <td>1</td>\n",
       "      <td>48</td>\n",
       "      <td>22</td>\n",
       "      <td>...</td>\n",
       "      <td>0</td>\n",
       "      <td>2.0</td>\n",
       "      <td>0</td>\n",
       "      <td>0.0</td>\n",
       "      <td>0</td>\n",
       "      <td>89</td>\n",
       "      <td>157</td>\n",
       "      <td>0.0</td>\n",
       "      <td>NaN</td>\n",
       "      <td>2</td>\n",
       "    </tr>\n",
       "    <tr>\n",
       "      <th>3</th>\n",
       "      <td>NaN</td>\n",
       "      <td>NaN</td>\n",
       "      <td>37</td>\n",
       "      <td>NaN</td>\n",
       "      <td>NaN</td>\n",
       "      <td>2</td>\n",
       "      <td>2</td>\n",
       "      <td>NaN</td>\n",
       "      <td>NaN</td>\n",
       "      <td>NaN</td>\n",
       "      <td>...</td>\n",
       "      <td>NaN</td>\n",
       "      <td>NaN</td>\n",
       "      <td>NaN</td>\n",
       "      <td>NaN</td>\n",
       "      <td>NaN</td>\n",
       "      <td>NaN</td>\n",
       "      <td>NaN</td>\n",
       "      <td>NaN</td>\n",
       "      <td>NaN</td>\n",
       "      <td>2</td>\n",
       "    </tr>\n",
       "    <tr>\n",
       "      <th>4</th>\n",
       "      <td>NaN</td>\n",
       "      <td>NaN</td>\n",
       "      <td>72</td>\n",
       "      <td>13</td>\n",
       "      <td>42</td>\n",
       "      <td>4</td>\n",
       "      <td>2</td>\n",
       "      <td>1</td>\n",
       "      <td>6</td>\n",
       "      <td>32</td>\n",
       "      <td>...</td>\n",
       "      <td>0</td>\n",
       "      <td>0.0</td>\n",
       "      <td>1</td>\n",
       "      <td>5.0</td>\n",
       "      <td>32</td>\n",
       "      <td>53</td>\n",
       "      <td>154</td>\n",
       "      <td>0.0</td>\n",
       "      <td>NaN</td>\n",
       "      <td>1</td>\n",
       "    </tr>\n",
       "  </tbody>\n",
       "</table>\n",
       "<p>5 rows × 24 columns</p>\n",
       "</div>"
      ],
      "text/plain": [
       "  Variable  CODE         age.diag      age.menarc         age.menop  \\\n",
       "0    Label   NaN  age at diagnose  age of menarce  age of menopause   \n",
       "1      NaN   NaN               41              12               NaN   \n",
       "2      NaN   NaN               57              15                45   \n",
       "3      NaN   NaN               37             NaN               NaN   \n",
       "4      NaN   NaN               72              13                42   \n",
       "\n",
       "   education  marital  gravity            lactaton              fpregnancy  \\\n",
       "0  education  marital  gravity  lactation duration  age at first pregnancy   \n",
       "1          3        2        1                  27                      20   \n",
       "2          2        4        1                  48                      22   \n",
       "3          2        2      NaN                 NaN                     NaN   \n",
       "4          4        2        1                   6                      32   \n",
       "\n",
       "   ...                  hrt smoking                    personal.Hx Family  \\\n",
       "0  ...  duration of HRT use     NaN  personal history of breast CA    NaN   \n",
       "1  ...                    0     0.0                              1    4.0   \n",
       "2  ...                    0     2.0                              0    0.0   \n",
       "3  ...                  NaN     NaN                            NaN    NaN   \n",
       "4  ...                    0     0.0                              1    5.0   \n",
       "\n",
       "                                 agef  weight  height  lifeevent stage      G  \n",
       "0  age of involved with breast cancer  weight  height        NaN   NaN  Grade  \n",
       "1                                  38      69     158        0.0    3a      2  \n",
       "2                                   0      89     157        0.0   NaN      2  \n",
       "3                                 NaN     NaN     NaN        NaN   NaN      2  \n",
       "4                                  32      53     154        0.0   NaN      1  \n",
       "\n",
       "[5 rows x 24 columns]"
      ]
     },
     "execution_count": 476,
     "metadata": {},
     "output_type": "execute_result"
    }
   ],
   "source": [
    "df = pd.read_excel(dataset_path)\n",
    "df.head()"
   ]
  },
  {
   "cell_type": "code",
   "execution_count": 477,
   "metadata": {},
   "outputs": [
    {
     "name": "stdout",
     "output_type": "stream",
     "text": [
      "1002\n",
      "Index(['Variable', 'CODE', 'age.diag', 'age.menarc', 'age.menop', 'education',\n",
      "       'marital', 'gravity', 'lactaton', 'fpregnancy', 'infertility',\n",
      "       'reproduct', 'ocpuse', 'ocp', 'hrt', 'smoking', 'personal.Hx', 'Family',\n",
      "       'agef', 'weight', 'height', 'lifeevent', 'stage', 'G'],\n",
      "      dtype='object')\n"
     ]
    }
   ],
   "source": [
    "print(len(df))\n",
    "print(df.columns)"
   ]
  },
  {
   "cell_type": "code",
   "execution_count": 478,
   "metadata": {},
   "outputs": [
    {
     "data": {
      "text/html": [
       "<div>\n",
       "<style scoped>\n",
       "    .dataframe tbody tr th:only-of-type {\n",
       "        vertical-align: middle;\n",
       "    }\n",
       "\n",
       "    .dataframe tbody tr th {\n",
       "        vertical-align: top;\n",
       "    }\n",
       "\n",
       "    .dataframe thead th {\n",
       "        text-align: right;\n",
       "    }\n",
       "</style>\n",
       "<table border=\"1\" class=\"dataframe\">\n",
       "  <thead>\n",
       "    <tr style=\"text-align: right;\">\n",
       "      <th></th>\n",
       "      <th>Variable</th>\n",
       "      <th>CODE</th>\n",
       "      <th>age.diag</th>\n",
       "      <th>age.menarc</th>\n",
       "      <th>age.menop</th>\n",
       "      <th>education</th>\n",
       "      <th>marital</th>\n",
       "      <th>gravity</th>\n",
       "      <th>lactaton</th>\n",
       "      <th>fpregnancy</th>\n",
       "      <th>...</th>\n",
       "      <th>hrt</th>\n",
       "      <th>smoking</th>\n",
       "      <th>personal.Hx</th>\n",
       "      <th>Family</th>\n",
       "      <th>agef</th>\n",
       "      <th>weight</th>\n",
       "      <th>height</th>\n",
       "      <th>lifeevent</th>\n",
       "      <th>stage</th>\n",
       "      <th>G</th>\n",
       "    </tr>\n",
       "  </thead>\n",
       "  <tbody>\n",
       "    <tr>\n",
       "      <th>1</th>\n",
       "      <td>NaN</td>\n",
       "      <td>NaN</td>\n",
       "      <td>41</td>\n",
       "      <td>12</td>\n",
       "      <td>NaN</td>\n",
       "      <td>3</td>\n",
       "      <td>2</td>\n",
       "      <td>1</td>\n",
       "      <td>27</td>\n",
       "      <td>20</td>\n",
       "      <td>...</td>\n",
       "      <td>0</td>\n",
       "      <td>0.0</td>\n",
       "      <td>1</td>\n",
       "      <td>4.0</td>\n",
       "      <td>38</td>\n",
       "      <td>69</td>\n",
       "      <td>158</td>\n",
       "      <td>0.0</td>\n",
       "      <td>3a</td>\n",
       "      <td>2</td>\n",
       "    </tr>\n",
       "    <tr>\n",
       "      <th>2</th>\n",
       "      <td>NaN</td>\n",
       "      <td>NaN</td>\n",
       "      <td>57</td>\n",
       "      <td>15</td>\n",
       "      <td>45</td>\n",
       "      <td>2</td>\n",
       "      <td>4</td>\n",
       "      <td>1</td>\n",
       "      <td>48</td>\n",
       "      <td>22</td>\n",
       "      <td>...</td>\n",
       "      <td>0</td>\n",
       "      <td>2.0</td>\n",
       "      <td>0</td>\n",
       "      <td>0.0</td>\n",
       "      <td>0</td>\n",
       "      <td>89</td>\n",
       "      <td>157</td>\n",
       "      <td>0.0</td>\n",
       "      <td>NaN</td>\n",
       "      <td>2</td>\n",
       "    </tr>\n",
       "    <tr>\n",
       "      <th>3</th>\n",
       "      <td>NaN</td>\n",
       "      <td>NaN</td>\n",
       "      <td>37</td>\n",
       "      <td>NaN</td>\n",
       "      <td>NaN</td>\n",
       "      <td>2</td>\n",
       "      <td>2</td>\n",
       "      <td>NaN</td>\n",
       "      <td>NaN</td>\n",
       "      <td>NaN</td>\n",
       "      <td>...</td>\n",
       "      <td>NaN</td>\n",
       "      <td>NaN</td>\n",
       "      <td>NaN</td>\n",
       "      <td>NaN</td>\n",
       "      <td>NaN</td>\n",
       "      <td>NaN</td>\n",
       "      <td>NaN</td>\n",
       "      <td>NaN</td>\n",
       "      <td>NaN</td>\n",
       "      <td>2</td>\n",
       "    </tr>\n",
       "    <tr>\n",
       "      <th>4</th>\n",
       "      <td>NaN</td>\n",
       "      <td>NaN</td>\n",
       "      <td>72</td>\n",
       "      <td>13</td>\n",
       "      <td>42</td>\n",
       "      <td>4</td>\n",
       "      <td>2</td>\n",
       "      <td>1</td>\n",
       "      <td>6</td>\n",
       "      <td>32</td>\n",
       "      <td>...</td>\n",
       "      <td>0</td>\n",
       "      <td>0.0</td>\n",
       "      <td>1</td>\n",
       "      <td>5.0</td>\n",
       "      <td>32</td>\n",
       "      <td>53</td>\n",
       "      <td>154</td>\n",
       "      <td>0.0</td>\n",
       "      <td>NaN</td>\n",
       "      <td>1</td>\n",
       "    </tr>\n",
       "    <tr>\n",
       "      <th>5</th>\n",
       "      <td>NaN</td>\n",
       "      <td>NaN</td>\n",
       "      <td>37</td>\n",
       "      <td>NaN</td>\n",
       "      <td>NaN</td>\n",
       "      <td>4</td>\n",
       "      <td>NaN</td>\n",
       "      <td>NaN</td>\n",
       "      <td>NaN</td>\n",
       "      <td>NaN</td>\n",
       "      <td>...</td>\n",
       "      <td>NaN</td>\n",
       "      <td>NaN</td>\n",
       "      <td>NaN</td>\n",
       "      <td>NaN</td>\n",
       "      <td>NaN</td>\n",
       "      <td>63</td>\n",
       "      <td>160</td>\n",
       "      <td>NaN</td>\n",
       "      <td>NaN</td>\n",
       "      <td>1</td>\n",
       "    </tr>\n",
       "  </tbody>\n",
       "</table>\n",
       "<p>5 rows × 24 columns</p>\n",
       "</div>"
      ],
      "text/plain": [
       "  Variable  CODE age.diag age.menarc age.menop education marital gravity  \\\n",
       "1      NaN   NaN       41         12       NaN         3       2       1   \n",
       "2      NaN   NaN       57         15        45         2       4       1   \n",
       "3      NaN   NaN       37        NaN       NaN         2       2     NaN   \n",
       "4      NaN   NaN       72         13        42         4       2       1   \n",
       "5      NaN   NaN       37        NaN       NaN         4     NaN     NaN   \n",
       "\n",
       "  lactaton fpregnancy  ...  hrt smoking  personal.Hx Family agef  weight  \\\n",
       "1       27         20  ...    0     0.0            1    4.0   38      69   \n",
       "2       48         22  ...    0     2.0            0    0.0    0      89   \n",
       "3      NaN        NaN  ...  NaN     NaN          NaN    NaN  NaN     NaN   \n",
       "4        6         32  ...    0     0.0            1    5.0   32      53   \n",
       "5      NaN        NaN  ...  NaN     NaN          NaN    NaN  NaN      63   \n",
       "\n",
       "  height  lifeevent stage  G  \n",
       "1    158        0.0    3a  2  \n",
       "2    157        0.0   NaN  2  \n",
       "3    NaN        NaN   NaN  2  \n",
       "4    154        0.0   NaN  1  \n",
       "5    160        NaN   NaN  1  \n",
       "\n",
       "[5 rows x 24 columns]"
      ]
     },
     "execution_count": 478,
     "metadata": {},
     "output_type": "execute_result"
    }
   ],
   "source": [
    "df = df.drop(df.index[0])\n",
    "df.head()"
   ]
  },
  {
   "cell_type": "code",
   "execution_count": 479,
   "metadata": {},
   "outputs": [
    {
     "data": {
      "text/plain": [
       "Variable        object\n",
       "CODE           float64\n",
       "age.diag        object\n",
       "age.menarc      object\n",
       "age.menop       object\n",
       "education       object\n",
       "marital         object\n",
       "gravity         object\n",
       "lactaton        object\n",
       "fpregnancy      object\n",
       "infertility     object\n",
       "reproduct       object\n",
       "ocpuse         float64\n",
       "ocp             object\n",
       "hrt             object\n",
       "smoking        float64\n",
       "personal.Hx     object\n",
       "Family         float64\n",
       "agef            object\n",
       "weight          object\n",
       "height          object\n",
       "lifeevent      float64\n",
       "stage           object\n",
       "G               object\n",
       "dtype: object"
      ]
     },
     "execution_count": 479,
     "metadata": {},
     "output_type": "execute_result"
    }
   ],
   "source": [
    "df.dtypes"
   ]
  },
  {
   "cell_type": "code",
   "execution_count": 480,
   "metadata": {},
   "outputs": [],
   "source": [
    "cleaned_df = df.copy()"
   ]
  },
  {
   "cell_type": "code",
   "execution_count": 481,
   "metadata": {},
   "outputs": [
    {
     "name": "stdout",
     "output_type": "stream",
     "text": [
      "14\n",
      "0\n",
      "70      6001486\n",
      "171     8000369\n",
      "664    83001071\n",
      "Name: CODE, dtype: int64\n"
     ]
    }
   ],
   "source": [
    "code_dist = range(int(df['CODE'].max()), (int(df['CODE'].max()) + df['CODE'].isna().sum() + 1))\n",
    "print(cleaned_df['CODE'].isna().sum())\n",
    "# Replace NaN values from code_dist\n",
    "cleaned_df['CODE'] = cleaned_df['CODE'].fillna(pd.Series(code_dist))\n",
    "print(cleaned_df['CODE'].isna().sum())\n",
    "cleaned_df['CODE'] = cleaned_df['CODE'].astype(int)\n",
    "print(cleaned_df[cleaned_df.duplicated(['CODE'])]['CODE'])"
   ]
  },
  {
   "cell_type": "code",
   "execution_count": 482,
   "metadata": {},
   "outputs": [
    {
     "name": "stdout",
     "output_type": "stream",
     "text": [
      "age.diag        4\n",
      "age.menarc     49\n",
      "age.menop     562\n",
      "agef          957\n",
      "dtype: int64\n",
      "------------\n",
      "age.diag object\n",
      "[41 57 37 72 53 39 50 58 40 34 67 35 46 43 48 30 32 60 38 54 51 44 29 27\n",
      " 52 55 42 31 63 71 25 49 45 64 33 nan 28 56 62 79 47 61 68 36 66 26 65 59\n",
      " 24 75 70 73 74 78 76 69 87 77 83 82 81 18]\n",
      "------------\n",
      "age.menarc object\n",
      "[12 15 nan 13 14 10 16 11 18 9 20 17 8]\n",
      "------------\n",
      "age.menop object\n",
      "[nan 45 42 0 50 39 48 43 34 40 52 46 53 56 44 60 47 30 57 49 51 54 41 33\n",
      " 55 32 36 59 38 35 37 62]\n",
      "------------\n",
      "agef object\n",
      "['38' '0' nan '32' '40' '36' '42' '70' '60' '45' '29' '30' '37' '59' '35-'\n",
      " '39' '50' '41' '24' '57' '55' '80' '46' '65']\n"
     ]
    }
   ],
   "source": [
    "age_cols = [col for col in df.columns if col.startswith('age')]\n",
    "print(cleaned_df[age_cols].isna().sum())\n",
    "for col in age_cols:\n",
    "    print(\"---\" * 4)\n",
    "    print(col, df[col].dtype)\n",
    "    print(cleaned_df[col].unique())"
   ]
  },
  {
   "cell_type": "code",
   "execution_count": 483,
   "metadata": {},
   "outputs": [],
   "source": [
    "def fill_na_with_mean(df, col):\n",
    "    print(\"---\" * 4)\n",
    "    print(col)\n",
    "    print(df[col].unique())\n",
    "    df[col] = df[col].fillna(0)\n",
    "    df[col] = df[col].astype(str).str.replace('-', '')\n",
    "    df[col] = df[col].astype(int)\n",
    "    df[col] = df[col].replace(0, int(df[df[col] != 0][col].mean()))\n",
    "    print(\"-\")\n",
    "    print(df[col].unique())\n",
    "    return df"
   ]
  },
  {
   "cell_type": "code",
   "execution_count": 484,
   "metadata": {},
   "outputs": [
    {
     "name": "stdout",
     "output_type": "stream",
     "text": [
      "------------\n",
      "age.diag\n",
      "[41 57 37 72 53 39 50 58 40 34 67 35 46 43 48 30 32 60 38 54 51 44 29 27\n",
      " 52 55 42 31 63 71 25 49 45 64 33 nan 28 56 62 79 47 61 68 36 66 26 65 59\n",
      " 24 75 70 73 74 78 76 69 87 77 83 82 81 18]\n",
      "-\n",
      "[41 57 37 72 53 39 50 58 40 34 67 35 46 43 48 30 32 60 38 54 51 44 29 27\n",
      " 52 55 42 31 63 71 25 49 45 64 33 28 56 62 79 47 61 68 36 66 26 65 59 24\n",
      " 75 70 73 74 78 76 69 87 77 83 82 81 18]\n",
      "------------\n",
      "age.menarc\n",
      "[12 15 nan 13 14 10 16 11 18 9 20 17 8]\n",
      "-\n",
      "[12 15 13 14 10 16 11 18  9 20 17  8]\n",
      "------------\n",
      "age.menop\n",
      "[nan 45 42 0 50 39 48 43 34 40 52 46 53 56 44 60 47 30 57 49 51 54 41 33\n",
      " 55 32 36 59 38 35 37 62]\n",
      "-\n",
      "[47 45 42 50 39 48 43 34 40 52 46 53 56 44 60 30 57 49 51 54 41 33 55 32\n",
      " 36 59 38 35 37 62]\n",
      "------------\n",
      "agef\n",
      "['38' '0' nan '32' '40' '36' '42' '70' '60' '45' '29' '30' '37' '59' '35-'\n",
      " '39' '50' '41' '24' '57' '55' '80' '46' '65']\n",
      "-\n",
      "[38 44 32 40 36 42 70 60 45 29 30 37 59 35 39 50 41 24 57 55 80 46 65]\n"
     ]
    }
   ],
   "source": [
    "for col in age_cols:\n",
    "    cleaned_df = fill_na_with_mean(cleaned_df, col)"
   ]
  },
  {
   "cell_type": "code",
   "execution_count": 485,
   "metadata": {},
   "outputs": [
    {
     "name": "stdout",
     "output_type": "stream",
     "text": [
      "------------\n",
      "education object\n",
      "[3 2 4 1 nan]\n",
      "25\n",
      "2    340\n",
      "3    300\n",
      "4    178\n",
      "1    158\n",
      "Name: education, dtype: int64\n",
      "------------\n",
      "marital object\n",
      "[2 4 nan 3 1]\n",
      "19\n",
      "2    810\n",
      "3    111\n",
      "1     59\n",
      "4      2\n",
      "Name: marital, dtype: int64\n",
      "------------\n",
      "gravity object\n",
      "[1 nan 0 2]\n",
      "72\n",
      "1    872\n",
      "2     36\n",
      "0     21\n",
      "Name: gravity, dtype: int64\n"
     ]
    }
   ],
   "source": [
    "for col in ['education', 'marital', 'gravity']:\n",
    "    print(\"---\" * 4)\n",
    "    print(col, cleaned_df[col].dtype)\n",
    "    print(cleaned_df[col].unique())\n",
    "    print(cleaned_df[col].isna().sum())\n",
    "    print(cleaned_df[col].value_counts())"
   ]
  },
  {
   "cell_type": "code",
   "execution_count": 486,
   "metadata": {},
   "outputs": [],
   "source": [
    "for col in ['education', 'marital', 'gravity']:\n",
    "    cleaned_df[col].fillna(cleaned_df[col].mode()[0], inplace=True)\n",
    "    cleaned_df[col] = cleaned_df[col].astype('category')"
   ]
  },
  {
   "cell_type": "code",
   "execution_count": 487,
   "metadata": {},
   "outputs": [
    {
     "name": "stdout",
     "output_type": "stream",
     "text": [
      "------------\n",
      "education category\n",
      "[3, 2, 4, 1]\n",
      "Categories (4, int64): [1, 2, 3, 4]\n",
      "0\n",
      "2    365\n",
      "3    300\n",
      "4    178\n",
      "1    158\n",
      "Name: education, dtype: int64\n",
      "------------\n",
      "marital category\n",
      "[2, 4, 3, 1]\n",
      "Categories (4, int64): [1, 2, 3, 4]\n",
      "0\n",
      "2    829\n",
      "3    111\n",
      "1     59\n",
      "4      2\n",
      "Name: marital, dtype: int64\n",
      "------------\n",
      "gravity category\n",
      "[1, 0, 2]\n",
      "Categories (3, int64): [0, 1, 2]\n",
      "0\n",
      "1    944\n",
      "2     36\n",
      "0     21\n",
      "Name: gravity, dtype: int64\n"
     ]
    }
   ],
   "source": [
    "for col in ['education', 'marital', 'gravity']:\n",
    "    print(\"---\" * 4)\n",
    "    print(col, cleaned_df[col].dtype)\n",
    "    print(cleaned_df[col].unique())\n",
    "    print(cleaned_df[col].isna().sum())\n",
    "    print(cleaned_df[col].value_counts())"
   ]
  },
  {
   "cell_type": "code",
   "execution_count": 488,
   "metadata": {},
   "outputs": [
    {
     "name": "stdout",
     "output_type": "stream",
     "text": [
      "[27 48 nan 6 0 96 36 72 2 84 52 78 18 168 60 19 216 24 10 15 9 30 180 144\n",
      " 56 11 3 4 8 25 12 1 42 29 66 192 120 54 5 50 132 92 28 80 16 40 20 174 13\n",
      " 90 64 65 17 53 89 108 22 14 7 39 100 55 75 102 33 21 44 51 58 133 79 61\n",
      " 41 114 43 32 240 118 38 162 45 46 171 86 204 88 138 26 126 288 113 62 156\n",
      " 68 82 35]\n",
      "[ 27  48  53   6   0  96  36  72   2  84  52  78  18 168  60  19 216  24\n",
      "  10  15   9  30 180 144  56  11   3   4   8  25  12   1  42  29  66 192\n",
      " 120  54   5  50 132  92  28  80  16  40  20 174  13  90  64  65  17  89\n",
      " 108  22  14   7  39 100  55  75 102  33  21  44  51  58 133  79  61  41\n",
      " 114  43  32 240 118  38 162  45  46 171  86 204  88 138  26 126 288 113\n",
      "  62 156  68  82  35]\n"
     ]
    }
   ],
   "source": [
    "print(cleaned_df['lactaton'].unique())\n",
    "cleaned_df['lactaton'] = cleaned_df['lactaton'].fillna(int(cleaned_df['lactaton'].mean(skipna=True)))\n",
    "cleaned_df['lactaton'] = cleaned_df['lactaton'].astype(int)\n",
    "print(cleaned_df['lactaton'].unique())"
   ]
  },
  {
   "cell_type": "code",
   "execution_count": 489,
   "metadata": {},
   "outputs": [
    {
     "name": "stdout",
     "output_type": "stream",
     "text": [
      "[20 22 nan 32 21 18 28 24 17 19 16 23 15 40 13 34 25 29 31 26 14 33 30 35\n",
      " 27 36 45 41 37 42 38 0]\n",
      "[20 22 21 32 18 28 24 17 19 16 23 15 40 13 34 25 29 31 26 14 33 30 35 27\n",
      " 36 45 41 37 42 38]\n"
     ]
    }
   ],
   "source": [
    "print(cleaned_df['fpregnancy'].unique())\n",
    "cleaned_df['fpregnancy'] = cleaned_df['fpregnancy'].replace(0, np.nan)\n",
    "cleaned_df['fpregnancy'] = cleaned_df['fpregnancy'].fillna(int(cleaned_df['fpregnancy'].mean(skipna=True)))\n",
    "cleaned_df['fpregnancy'] = cleaned_df['fpregnancy'].astype(int)\n",
    "print(cleaned_df['fpregnancy'].unique())"
   ]
  },
  {
   "cell_type": "code",
   "execution_count": 490,
   "metadata": {},
   "outputs": [
    {
     "name": "stdout",
     "output_type": "stream",
     "text": [
      "[0 nan 1]\n",
      "[0, 1]\n",
      "Categories (2, int64): [0, 1]\n"
     ]
    }
   ],
   "source": [
    "print(cleaned_df['infertility'].unique())\n",
    "# fill NaN values with the most frequent value\n",
    "cleaned_df['infertility'] = cleaned_df['infertility'].fillna(cleaned_df['infertility'].mode()[0])\n",
    "cleaned_df['infertility'] = cleaned_df['infertility'].astype('category')\n",
    "print(cleaned_df['infertility'].unique())"
   ]
  },
  {
   "cell_type": "code",
   "execution_count": 491,
   "metadata": {},
   "outputs": [
    {
     "name": "stdout",
     "output_type": "stream",
     "text": [
      "[1 3 nan 2 4]\n",
      "[1, 3, 2, 4]\n",
      "Categories (4, int64): [1, 2, 3, 4]\n"
     ]
    }
   ],
   "source": [
    "print(cleaned_df['reproduct'].unique())\n",
    "cleaned_df['reproduct'] = cleaned_df['reproduct'].fillna(cleaned_df['reproduct'].mode()[0])\n",
    "cleaned_df['reproduct'] = cleaned_df['reproduct'].astype('category')\n",
    "print(cleaned_df['reproduct'].unique())"
   ]
  },
  {
   "cell_type": "code",
   "execution_count": 492,
   "metadata": {},
   "outputs": [
    {
     "name": "stdout",
     "output_type": "stream",
     "text": [
      "[ 0. nan  1.]\n",
      "[0, 1]\n",
      "Categories (2, int64): [0, 1]\n"
     ]
    }
   ],
   "source": [
    "print(cleaned_df['ocpuse'].unique())\n",
    "cleaned_df['ocpuse'] = cleaned_df['ocpuse'].fillna(cleaned_df['ocpuse'].mode()[0])\n",
    "cleaned_df['ocpuse'] = cleaned_df['ocpuse'].astype(int)\n",
    "cleaned_df['ocpuse'] = cleaned_df['ocpuse'].astype('category')\n",
    "print(cleaned_df['ocpuse'].unique())"
   ]
  },
  {
   "cell_type": "code",
   "execution_count": 493,
   "metadata": {},
   "outputs": [
    {
     "name": "stdout",
     "output_type": "stream",
     "text": [
      "[nan 0 24 120 6 84 216 12 300 1 3 252 30 72 168 60 4 36 8 66 96 48 132 108\n",
      " 7 18 144 180 228 15 156 5 240 276 204 82 2 54 42 52 78 80 288 192 14 90\n",
      " 10 186 41 100 73 45 202]\n",
      "[ 61   0  24 120   6  84 216  12 300   1   3 252  30  72 168  60   4  36\n",
      "   8  66  96  48 132 108   7  18 144 180 228  15 156   5 240 276 204  82\n",
      "   2  54  42  52  78  80 288 192  14  90  10 186  41 100  73  45 202]\n"
     ]
    }
   ],
   "source": [
    "print(cleaned_df['ocp'].unique())\n",
    "cleaned_df['ocp'] = cleaned_df['ocp'].fillna(int(cleaned_df['ocp'].mean(skipna=True)))\n",
    "cleaned_df['ocp'] = cleaned_df['ocp'].astype(int)\n",
    "print(cleaned_df['ocp'].unique())"
   ]
  },
  {
   "cell_type": "code",
   "execution_count": 494,
   "metadata": {},
   "outputs": [
    {
     "name": "stdout",
     "output_type": "stream",
     "text": [
      "[0 nan 2 6 24 12 96 4 36 3 30 18 72 48 5 60 9 8 54]\n",
      "[ 0  1  2  6 24 12 96  4 36  3 30 18 72 48  5 60  9  8 54]\n"
     ]
    }
   ],
   "source": [
    "print(cleaned_df['hrt'].unique())\n",
    "cleaned_df['hrt'] = cleaned_df['hrt'].fillna(int(cleaned_df['hrt'].mean(skipna=True)))\n",
    "cleaned_df['hrt'] = cleaned_df['hrt'].astype(int)\n",
    "print(cleaned_df['hrt'].unique())"
   ]
  },
  {
   "cell_type": "code",
   "execution_count": 495,
   "metadata": {},
   "outputs": [
    {
     "name": "stdout",
     "output_type": "stream",
     "text": [
      "[ 0.  2. nan  1. 12.]\n",
      "[0, 2, 1]\n",
      "Categories (3, int64): [0, 1, 2]\n"
     ]
    }
   ],
   "source": [
    "print(cleaned_df['smoking'].unique())\n",
    "cleaned_df['smoking'] = cleaned_df['smoking'].fillna(cleaned_df['smoking'].mode()[0])\n",
    "cleaned_df['smoking'] = cleaned_df['smoking'].replace(12, cleaned_df['smoking'].mode()[0])\n",
    "cleaned_df['smoking'] = cleaned_df['smoking'].astype(int)\n",
    "cleaned_df['smoking'] = cleaned_df['smoking'].astype('category')\n",
    "print(cleaned_df['smoking'].unique())\n"
   ]
  },
  {
   "cell_type": "code",
   "execution_count": 496,
   "metadata": {},
   "outputs": [
    {
     "name": "stdout",
     "output_type": "stream",
     "text": [
      "[1 0 nan]\n",
      "[1, 0]\n",
      "Categories (2, int64): [0, 1]\n"
     ]
    }
   ],
   "source": [
    "print(cleaned_df['personal.Hx'].unique())\n",
    "cleaned_df['personal.Hx'] = cleaned_df['personal.Hx'].fillna(cleaned_df['personal.Hx'].mode()[0])\n",
    "cleaned_df['personal.Hx'] = cleaned_df['personal.Hx'].astype('category')\n",
    "print(cleaned_df['personal.Hx'].unique())"
   ]
  },
  {
   "cell_type": "code",
   "execution_count": 497,
   "metadata": {},
   "outputs": [
    {
     "name": "stdout",
     "output_type": "stream",
     "text": [
      "[ 4.  0. nan  5.  6.  2.  1. 23.  3. 13.  7.]\n",
      "0.0     829\n",
      "3.0      62\n",
      "1.0      61\n",
      "4.0       6\n",
      "13.0      6\n",
      "2.0       5\n",
      "5.0       3\n",
      "6.0       3\n",
      "23.0      2\n",
      "7.0       1\n",
      "Name: Family, dtype: int64\n",
      "[4, 0, 5, 6, 2, 1, 3, 7]\n",
      "Categories (8, int64): [0, 1, 2, 3, 4, 5, 6, 7]\n"
     ]
    }
   ],
   "source": [
    "valid_choices = [i for i in range(0, 8)]\n",
    "print(cleaned_df['Family'].unique())\n",
    "print(cleaned_df['Family'].value_counts())\n",
    "# fill NaN values with the most frequent value\n",
    "cleaned_df['Family'] = cleaned_df['Family'].fillna(cleaned_df['Family'].mode()[0])\n",
    "# replace invalid values with the most frequent value\n",
    "cleaned_df['Family'] = cleaned_df['Family'].map(lambda x: cleaned_df['Family'].mode()[0] if x not in valid_choices else x)\n",
    "cleaned_df['Family'] = cleaned_df['Family'].astype(int)\n",
    "cleaned_df['Family'] = cleaned_df['Family'].astype('category')\n",
    "print(cleaned_df['Family'].unique())"
   ]
  },
  {
   "cell_type": "code",
   "execution_count": 498,
   "metadata": {},
   "outputs": [
    {
     "name": "stdout",
     "output_type": "stream",
     "text": [
      "[69 89 nan 53 63 55 85 68 95 65 75 58 70 78 86 64 71 43 50 48 61 67 60 35\n",
      " 49 59 76 57 56 74 52 45 54 72 51 100 80 90 62 77 79 46 66 73 40 84 81 93\n",
      " 88 38 83 36 41 105 92 99 44 96 82 104 103 94 101 102 87 114 113 97 98 111\n",
      " 112 107 42 91 108 115]\n",
      "[ 69  89  53  63  55  85  68  95  65  75  58  70  78  86  64  71  43  50\n",
      "  48  61  67  60  35  49  59  76  57  56  74  52  45  54  72  51 100  80\n",
      "  90  62  77  79  46  66  73  40  84  81  93  88  38  83  36  41 105  92\n",
      "  99  44  96  82 104 103  94 101 102  87 114 113  97  98 111 112 107  42\n",
      "  91 108 115]\n"
     ]
    }
   ],
   "source": [
    "print(cleaned_df['weight'].unique())\n",
    "cleaned_df['weight'] = cleaned_df['weight'].fillna(int(cleaned_df['weight'].mean(skipna=True)))\n",
    "cleaned_df['weight'] = cleaned_df['weight'].astype(int)\n",
    "print(cleaned_df['weight'].unique())"
   ]
  },
  {
   "cell_type": "code",
   "execution_count": 499,
   "metadata": {},
   "outputs": [
    {
     "name": "stdout",
     "output_type": "stream",
     "text": [
      "[158 157 nan 154 160 165 169 164 152 145 155 151 153 147 150 166 156 167\n",
      " 132 168 161 159 163 144 148 162 149 146 130 143 171 178 124 142 173 172\n",
      " 174 140 170 120 175 141 138 137]\n"
     ]
    }
   ],
   "source": [
    "print(cleaned_df['height'].unique())\n",
    "cleaned_df['height'] = cleaned_df['height'].fillna(int(cleaned_df['height'].mean(skipna=True)))\n",
    "cleaned_df['height'] = cleaned_df['height'].astype(int)\n"
   ]
  },
  {
   "cell_type": "code",
   "execution_count": 500,
   "metadata": {},
   "outputs": [
    {
     "name": "stdout",
     "output_type": "stream",
     "text": [
      "[ 0. nan  6.  1. 36.]\n",
      "0.0     16\n",
      "6.0      1\n",
      "1.0      1\n",
      "36.0     1\n",
      "Name: lifeevent, dtype: int64\n",
      "982\n",
      "[0, 6, 1]\n",
      "Categories (3, int64): [0, 1, 6]\n"
     ]
    }
   ],
   "source": [
    "valid_choices = [i for i in range(0, 11)]\n",
    "print(cleaned_df['lifeevent'].unique())\n",
    "print(cleaned_df['lifeevent'].value_counts())\n",
    "print(cleaned_df['lifeevent'].isna().sum())\n",
    "# fill NaN values with the most frequent value\n",
    "cleaned_df['lifeevent'] = cleaned_df['lifeevent'].fillna(cleaned_df['lifeevent'].mode()[0])\n",
    "# replace invalid values with the most frequent value\n",
    "cleaned_df['lifeevent'] = cleaned_df['lifeevent'].map(lambda x: cleaned_df['lifeevent'].mode()[0] if x not in valid_choices else x)\n",
    "cleaned_df['lifeevent'] = cleaned_df['lifeevent'].astype(int)\n",
    "cleaned_df['lifeevent'] = cleaned_df['lifeevent'].astype('category')\n",
    "print(cleaned_df['lifeevent'].unique())"
   ]
  },
  {
   "cell_type": "code",
   "execution_count": 501,
   "metadata": {},
   "outputs": [
    {
     "name": "stdout",
     "output_type": "stream",
     "text": [
      "['3a' nan '2b' '1' '3c' '2a' '4' '0' '3b']\n",
      "385\n"
     ]
    }
   ],
   "source": [
    "print(cleaned_df['stage'].unique())\n",
    "# count NaN values\n",
    "print(cleaned_df['stage'].isna().sum())\n",
    "# drop rows with NaN stage values\n",
    "cleaned_df = cleaned_df.dropna(subset=['stage'])"
   ]
  },
  {
   "cell_type": "code",
   "execution_count": 502,
   "metadata": {},
   "outputs": [
    {
     "name": "stdout",
     "output_type": "stream",
     "text": [
      "[2 nan 1 3]\n",
      "171\n"
     ]
    }
   ],
   "source": [
    "print(cleaned_df['G'].unique())\n",
    "# count NaN values\n",
    "print(cleaned_df['G'].isna().sum())\n",
    "# drop rows with NaN G values\n",
    "cleaned_df = cleaned_df.dropna(subset=['G'])"
   ]
  },
  {
   "cell_type": "code",
   "execution_count": 503,
   "metadata": {},
   "outputs": [
    {
     "name": "stdout",
     "output_type": "stream",
     "text": [
      "445\n"
     ]
    }
   ],
   "source": [
    "# count total values\n",
    "print(len(cleaned_df))"
   ]
  },
  {
   "cell_type": "code",
   "execution_count": 504,
   "metadata": {},
   "outputs": [
    {
     "name": "stdout",
     "output_type": "stream",
     "text": [
      "Variable       445\n",
      "CODE             0\n",
      "age.diag         0\n",
      "age.menarc       0\n",
      "age.menop        0\n",
      "education        0\n",
      "marital          0\n",
      "gravity          0\n",
      "lactaton         0\n",
      "fpregnancy       0\n",
      "infertility      0\n",
      "reproduct        0\n",
      "ocpuse           0\n",
      "ocp              0\n",
      "hrt              0\n",
      "smoking          0\n",
      "personal.Hx      0\n",
      "Family           0\n",
      "agef             0\n",
      "weight           0\n",
      "height           0\n",
      "lifeevent        0\n",
      "stage            0\n",
      "G                0\n",
      "dtype: int64\n"
     ]
    }
   ],
   "source": [
    "# count NaN values\n",
    "print(cleaned_df.isna().sum())"
   ]
  },
  {
   "cell_type": "code",
   "execution_count": 505,
   "metadata": {},
   "outputs": [],
   "source": [
    "cleaned_df.to_csv('../data/processed/cleaned_data.csv', index=True)"
   ]
  },
  {
   "cell_type": "code",
   "execution_count": null,
   "metadata": {},
   "outputs": [],
   "source": []
  }
 ],
 "metadata": {
  "kernelspec": {
   "display_name": "breast_cancer",
   "language": "python",
   "name": "python3"
  },
  "language_info": {
   "codemirror_mode": {
    "name": "ipython",
    "version": 3
   },
   "file_extension": ".py",
   "mimetype": "text/x-python",
   "name": "python",
   "nbconvert_exporter": "python",
   "pygments_lexer": "ipython3",
   "version": "3.10.9"
  },
  "orig_nbformat": 4,
  "vscode": {
   "interpreter": {
    "hash": "be87d49faad2c071a5bf390c45db8b98c9e7a4e64462820d7ded0065131c2078"
   }
  }
 },
 "nbformat": 4,
 "nbformat_minor": 2
}
